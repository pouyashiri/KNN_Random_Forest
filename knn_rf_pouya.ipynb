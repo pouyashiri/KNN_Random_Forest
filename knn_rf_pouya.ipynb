{
 "cells": [
  {
   "cell_type": "markdown",
   "source": [
    "\n",
    "This notebook performs Binary Classification on the \"Income Classification Dataset\" using 2 different methods: Random Forest and KNN.\n",
    "\n",
    "Dataset: https://www.kaggle.com/lodetomasi1995/income-classification\n",
    "\n",
    "References:\n",
    "https://towardsdatascience.com/understanding-random-forest-58381e0602d2\n",
    "https://towardsdatascience.com/machine-learning-basics-with-the-k-nearest-neighbors-algorithm-6a6e71d01761\n",
    "https://www.kaggle.com/prashant111/random-forest-classifier-feature-importance\n",
    "https://www.kaggle.com/prashant111/knn-classifier-tutorial\n"
   ],
   "metadata": {
    "collapsed": false,
    "pycharm": {
     "name": "#%% md\n"
    }
   }
  },
  {
   "cell_type": "code",
   "execution_count": 28,
   "outputs": [],
   "source": [
    "# importing the required libraries\n",
    "\n",
    "import time\n",
    "import pandas as pd\n",
    "import numpy as np\n",
    "import seaborn as sns\n",
    "import matplotlib.pyplot as plt\n",
    "import category_encoders as ce\n",
    "from sklearn.model_selection import train_test_split\n",
    "from sklearn.decomposition import PCA\n",
    "from sklearn.neighbors import KNeighborsClassifier\n",
    "from sklearn.ensemble import RandomForestClassifier\n",
    "from sklearn.preprocessing import RobustScaler\n",
    "from sklearn.metrics import accuracy_score, classification_report, confusion_matrix"
   ],
   "metadata": {
    "collapsed": false,
    "pycharm": {
     "name": "#%%\n"
    }
   }
  },
  {
   "cell_type": "code",
   "execution_count": 29,
   "outputs": [],
   "source": [
    "# loading the dataset and checking top elements\n",
    "df = pd.read_csv('income_evaluation.csv')\n",
    "df.head()\n",
    "random_state = 0"
   ],
   "metadata": {
    "collapsed": false,
    "pycharm": {
     "name": "#%%\n"
    }
   }
  },
  {
   "cell_type": "code",
   "execution_count": 30,
   "outputs": [
    {
     "name": "stdout",
     "output_type": "stream",
     "text": [
      " Private             0.697030\n",
      " Self-emp-not-inc    0.078038\n",
      " Local-gov           0.064279\n",
      " ?                   0.056386\n",
      " State-gov           0.039864\n",
      " Self-emp-inc        0.034274\n",
      " Federal-gov         0.029483\n",
      " Without-pay         0.000430\n",
      " Never-worked        0.000215\n",
      "Name:  workclass, dtype: float64\n",
      " HS-grad         0.322502\n",
      " Some-college    0.223918\n",
      " Bachelors       0.164461\n",
      " Masters         0.052916\n",
      " Assoc-voc       0.042443\n",
      " 11th            0.036086\n",
      " Assoc-acdm      0.032769\n",
      " 10th            0.028654\n",
      " 7th-8th         0.019840\n",
      " Prof-school     0.017690\n",
      " 9th             0.015786\n",
      " 12th            0.013298\n",
      " Doctorate       0.012684\n",
      " 5th-6th         0.010227\n",
      " 1st-4th         0.005160\n",
      " Preschool       0.001566\n",
      "Name:  education, dtype: float64\n",
      " Married-civ-spouse       0.459937\n",
      " Never-married            0.328092\n",
      " Divorced                 0.136452\n",
      " Separated                0.031479\n",
      " Widowed                  0.030497\n",
      " Married-spouse-absent    0.012837\n",
      " Married-AF-spouse        0.000706\n",
      "Name:  marital-status, dtype: float64\n",
      " Prof-specialty       0.127146\n",
      " Craft-repair         0.125887\n",
      " Exec-managerial      0.124873\n",
      " Adm-clerical         0.115783\n",
      " Sales                0.112097\n",
      " Other-service        0.101195\n",
      " Machine-op-inspct    0.061485\n",
      " ?                    0.056601\n",
      " Transport-moving     0.049046\n",
      " Handlers-cleaners    0.042075\n",
      " Farming-fishing      0.030527\n",
      " Tech-support         0.028500\n",
      " Protective-serv      0.019932\n",
      " Priv-house-serv      0.004576\n",
      " Armed-Forces         0.000276\n",
      "Name:  occupation, dtype: float64\n",
      " Husband           0.405178\n",
      " Not-in-family     0.255060\n",
      " Own-child         0.155646\n",
      " Unmarried         0.105832\n",
      " Wife              0.048156\n",
      " Other-relative    0.030128\n",
      "Name:  relationship, dtype: float64\n",
      " White                 0.854274\n",
      " Black                 0.095943\n",
      " Asian-Pac-Islander    0.031909\n",
      " Amer-Indian-Eskimo    0.009551\n",
      " Other                 0.008323\n",
      "Name:  race, dtype: float64\n",
      " Male      0.669205\n",
      " Female    0.330795\n",
      "Name:  sex, dtype: float64\n",
      " United-States                 0.895857\n",
      " Mexico                        0.019748\n",
      " ?                             0.017905\n",
      " Philippines                   0.006081\n",
      " Germany                       0.004207\n",
      " Canada                        0.003716\n",
      " Puerto-Rico                   0.003501\n",
      " El-Salvador                   0.003255\n",
      " India                         0.003071\n",
      " Cuba                          0.002918\n",
      " England                       0.002764\n",
      " Jamaica                       0.002488\n",
      " South                         0.002457\n",
      " China                         0.002303\n",
      " Italy                         0.002242\n",
      " Dominican-Republic            0.002150\n",
      " Vietnam                       0.002058\n",
      " Guatemala                     0.001966\n",
      " Japan                         0.001904\n",
      " Poland                        0.001843\n",
      " Columbia                      0.001812\n",
      " Taiwan                        0.001566\n",
      " Haiti                         0.001351\n",
      " Iran                          0.001321\n",
      " Portugal                      0.001136\n",
      " Nicaragua                     0.001044\n",
      " Peru                          0.000952\n",
      " France                        0.000891\n",
      " Greece                        0.000891\n",
      " Ecuador                       0.000860\n",
      " Ireland                       0.000737\n",
      " Hong                          0.000614\n",
      " Cambodia                      0.000584\n",
      " Trinadad&Tobago               0.000584\n",
      " Laos                          0.000553\n",
      " Thailand                      0.000553\n",
      " Yugoslavia                    0.000491\n",
      " Outlying-US(Guam-USVI-etc)    0.000430\n",
      " Honduras                      0.000399\n",
      " Hungary                       0.000399\n",
      " Scotland                      0.000369\n",
      " Holand-Netherlands            0.000031\n",
      "Name:  native-country, dtype: float64\n",
      " <=50K    0.75919\n",
      " >50K     0.24081\n",
      "Name:  income, dtype: float64\n"
     ]
    }
   ],
   "source": [
    "# checking categorical columns for invalid data values\n",
    "categorical = [x for x in df.columns if df[x].dtype == 'O']\n",
    "numerical = [var for var in df.columns if df[var].dtype != 'O']\n",
    "\n",
    "for var in categorical:\n",
    "    print(df[var].value_counts() / np.float(len(df)))\n"
   ],
   "metadata": {
    "collapsed": false,
    "pycharm": {
     "name": "#%%\n"
    }
   }
  },
  {
   "cell_type": "code",
   "execution_count": 31,
   "outputs": [
    {
     "name": "stdout",
     "output_type": "stream",
     "text": [
      "workclass column: [' State-gov' ' Self-emp-not-inc' ' Private' ' Federal-gov' ' Local-gov'\n",
      " ' ?' ' Self-emp-inc' ' Without-pay' ' Never-worked']\n",
      "\n",
      "occupation column: [' Adm-clerical' ' Exec-managerial' ' Handlers-cleaners' ' Prof-specialty'\n",
      " ' Other-service' ' Sales' ' Craft-repair' ' Transport-moving'\n",
      " ' Farming-fishing' ' Machine-op-inspct' ' Tech-support' ' ?'\n",
      " ' Protective-serv' ' Armed-Forces' ' Priv-house-serv']\n",
      "\n",
      "native-country columns: [' United-States' ' Cuba' ' Jamaica' ' India' ' ?' ' Mexico' ' South'\n",
      " ' Puerto-Rico' ' Honduras' ' England' ' Canada' ' Germany' ' Iran'\n",
      " ' Philippines' ' Italy' ' Poland' ' Columbia' ' Cambodia' ' Thailand'\n",
      " ' Ecuador' ' Laos' ' Taiwan' ' Haiti' ' Portugal' ' Dominican-Republic'\n",
      " ' El-Salvador' ' France' ' Guatemala' ' China' ' Japan' ' Yugoslavia'\n",
      " ' Peru' ' Outlying-US(Guam-USVI-etc)' ' Scotland' ' Trinadad&Tobago'\n",
      " ' Greece' ' Nicaragua' ' Vietnam' ' Hong' ' Ireland' ' Hungary'\n",
      " ' Holand-Netherlands']\n",
      "\n"
     ]
    }
   ],
   "source": [
    "# discovered categorical columns with unknown values: workclass, occupation, native-country\n",
    "print(f\"workclass column: {df[' workclass'].unique()}\\n\")\n",
    "print(f\"occupation column: {df[' occupation'].unique()}\\n\")\n",
    "print(f\"native-country columns: {df[' native-country'].unique()}\\n\")"
   ],
   "metadata": {
    "collapsed": false,
    "pycharm": {
     "name": "#%%\n"
    }
   }
  },
  {
   "cell_type": "code",
   "execution_count": 32,
   "outputs": [
    {
     "name": "stdout",
     "output_type": "stream",
     "text": [
      " Private             24532\n",
      " Self-emp-not-inc     2541\n",
      " Local-gov            2093\n",
      " State-gov            1298\n",
      " Self-emp-inc         1116\n",
      " Federal-gov           960\n",
      " Without-pay            14\n",
      " Never-worked            7\n",
      "Name:  workclass, dtype: int64\n",
      " Prof-specialty       5983\n",
      " Craft-repair         4099\n",
      " Exec-managerial      4066\n",
      " Adm-clerical         3770\n",
      " Sales                3650\n",
      " Other-service        3295\n",
      " Machine-op-inspct    2002\n",
      " Transport-moving     1597\n",
      " Handlers-cleaners    1370\n",
      " Farming-fishing       994\n",
      " Tech-support          928\n",
      " Protective-serv       649\n",
      " Priv-house-serv       149\n",
      " Armed-Forces            9\n",
      "Name:  occupation, dtype: int64\n",
      " United-States                 29753\n",
      " Mexico                          643\n",
      " Philippines                     198\n",
      " Germany                         137\n",
      " Canada                          121\n",
      " Puerto-Rico                     114\n",
      " El-Salvador                     106\n",
      " India                           100\n",
      " Cuba                             95\n",
      " England                          90\n",
      " Jamaica                          81\n",
      " South                            80\n",
      " China                            75\n",
      " Italy                            73\n",
      " Dominican-Republic               70\n",
      " Vietnam                          67\n",
      " Guatemala                        64\n",
      " Japan                            62\n",
      " Poland                           60\n",
      " Columbia                         59\n",
      " Taiwan                           51\n",
      " Haiti                            44\n",
      " Iran                             43\n",
      " Portugal                         37\n",
      " Nicaragua                        34\n",
      " Peru                             31\n",
      " France                           29\n",
      " Greece                           29\n",
      " Ecuador                          28\n",
      " Ireland                          24\n",
      " Hong                             20\n",
      " Cambodia                         19\n",
      " Trinadad&Tobago                  19\n",
      " Laos                             18\n",
      " Thailand                         18\n",
      " Yugoslavia                       16\n",
      " Outlying-US(Guam-USVI-etc)       14\n",
      " Honduras                         13\n",
      " Hungary                          13\n",
      " Scotland                         12\n",
      " Holand-Netherlands                1\n",
      "Name:  native-country, dtype: int64\n"
     ]
    }
   ],
   "source": [
    "# replacing the unknown values with \"mode\" (imputation step)\n",
    "cols_with_unk = [' workclass', ' occupation', ' native-country']\n",
    "\n",
    "for col in cols_with_unk:\n",
    "    df[col].replace(' ?', np.NaN, inplace=True)\n",
    "    df[col].fillna(df[col].mode()[0], inplace=True)\n",
    "    print(df[col].value_counts())\n"
   ],
   "metadata": {
    "collapsed": false,
    "pycharm": {
     "name": "#%%\n"
    }
   }
  },
  {
   "cell_type": "code",
   "execution_count": 33,
   "outputs": [
    {
     "name": "stdout",
     "output_type": "stream",
     "text": [
      " workclass  contains  8  labels\n",
      " education  contains  16  labels\n",
      " marital-status  contains  7  labels\n",
      " occupation  contains  14  labels\n",
      " relationship  contains  6  labels\n",
      " race  contains  5  labels\n",
      " sex  contains  2  labels\n",
      " native-country  contains  41  labels\n",
      " income  contains  2  labels\n"
     ]
    }
   ],
   "source": [
    "# check cardinality (number of distinct values for each column)\n",
    "for var in categorical:\n",
    "    print(var, ' contains ', len(df[var].unique()), ' labels')"
   ],
   "metadata": {
    "collapsed": false,
    "pycharm": {
     "name": "#%%\n"
    }
   }
  },
  {
   "cell_type": "code",
   "execution_count": 34,
   "outputs": [
    {
     "data": {
      "text/plain": "<pandas.io.formats.style.Styler at 0x16551f8e0>",
      "text/html": "<style type=\"text/css\">\n#T_abc9c_row0_col0, #T_abc9c_row1_col1, #T_abc9c_row2_col2, #T_abc9c_row3_col3, #T_abc9c_row4_col4, #T_abc9c_row5_col5 {\n  background-color: #b40426;\n  color: #f1f1f1;\n}\n#T_abc9c_row0_col1, #T_abc9c_row1_col0, #T_abc9c_row2_col1, #T_abc9c_row3_col4, #T_abc9c_row4_col3, #T_abc9c_row5_col1 {\n  background-color: #3b4cc0;\n  color: #f1f1f1;\n}\n#T_abc9c_row0_col2 {\n  background-color: #5a78e4;\n  color: #f1f1f1;\n}\n#T_abc9c_row0_col3 {\n  background-color: #6788ee;\n  color: #f1f1f1;\n}\n#T_abc9c_row0_col4 {\n  background-color: #6180e9;\n  color: #f1f1f1;\n}\n#T_abc9c_row0_col5 {\n  background-color: #6485ec;\n  color: #f1f1f1;\n}\n#T_abc9c_row1_col2, #T_abc9c_row3_col1 {\n  background-color: #4358cb;\n  color: #f1f1f1;\n}\n#T_abc9c_row1_col3, #T_abc9c_row5_col4 {\n  background-color: #506bda;\n  color: #f1f1f1;\n}\n#T_abc9c_row1_col4 {\n  background-color: #4c66d6;\n  color: #f1f1f1;\n}\n#T_abc9c_row1_col5 {\n  background-color: #4a63d3;\n  color: #f1f1f1;\n}\n#T_abc9c_row2_col0 {\n  background-color: #516ddb;\n  color: #f1f1f1;\n}\n#T_abc9c_row2_col3 {\n  background-color: #6c8ff1;\n  color: #f1f1f1;\n}\n#T_abc9c_row2_col4 {\n  background-color: #5f7fe8;\n  color: #f1f1f1;\n}\n#T_abc9c_row2_col5 {\n  background-color: #7597f6;\n  color: #f1f1f1;\n}\n#T_abc9c_row3_col0, #T_abc9c_row3_col5, #T_abc9c_row4_col2 {\n  background-color: #5b7ae5;\n  color: #f1f1f1;\n}\n#T_abc9c_row3_col2 {\n  background-color: #6a8bef;\n  color: #f1f1f1;\n}\n#T_abc9c_row4_col0 {\n  background-color: #5572df;\n  color: #f1f1f1;\n}\n#T_abc9c_row4_col1 {\n  background-color: #4055c8;\n  color: #f1f1f1;\n}\n#T_abc9c_row4_col5, #T_abc9c_row5_col0 {\n  background-color: #5470de;\n  color: #f1f1f1;\n}\n#T_abc9c_row5_col2 {\n  background-color: #6e90f2;\n  color: #f1f1f1;\n}\n#T_abc9c_row5_col3 {\n  background-color: #5875e1;\n  color: #f1f1f1;\n}\n</style>\n<table id=\"T_abc9c_\">\n  <thead>\n    <tr>\n      <th class=\"blank level0\" >&nbsp;</th>\n      <th class=\"col_heading level0 col0\" >age</th>\n      <th class=\"col_heading level0 col1\" > fnlwgt</th>\n      <th class=\"col_heading level0 col2\" > education-num</th>\n      <th class=\"col_heading level0 col3\" > capital-gain</th>\n      <th class=\"col_heading level0 col4\" > capital-loss</th>\n      <th class=\"col_heading level0 col5\" > hours-per-week</th>\n    </tr>\n  </thead>\n  <tbody>\n    <tr>\n      <th id=\"T_abc9c_level0_row0\" class=\"row_heading level0 row0\" >age</th>\n      <td id=\"T_abc9c_row0_col0\" class=\"data row0 col0\" >1.0</td>\n      <td id=\"T_abc9c_row0_col1\" class=\"data row0 col1\" >-0.07665</td>\n      <td id=\"T_abc9c_row0_col2\" class=\"data row0 col2\" >0.03653</td>\n      <td id=\"T_abc9c_row0_col3\" class=\"data row0 col3\" >0.07767</td>\n      <td id=\"T_abc9c_row0_col4\" class=\"data row0 col4\" >0.05777</td>\n      <td id=\"T_abc9c_row0_col5\" class=\"data row0 col5\" >0.06876</td>\n    </tr>\n    <tr>\n      <th id=\"T_abc9c_level0_row1\" class=\"row_heading level0 row1\" > fnlwgt</th>\n      <td id=\"T_abc9c_row1_col0\" class=\"data row1 col0\" >-0.07665</td>\n      <td id=\"T_abc9c_row1_col1\" class=\"data row1 col1\" >1.0</td>\n      <td id=\"T_abc9c_row1_col2\" class=\"data row1 col2\" >-0.04319</td>\n      <td id=\"T_abc9c_row1_col3\" class=\"data row1 col3\" >0.0004319</td>\n      <td id=\"T_abc9c_row1_col4\" class=\"data row1 col4\" >-0.01025</td>\n      <td id=\"T_abc9c_row1_col5\" class=\"data row1 col5\" >-0.01877</td>\n    </tr>\n    <tr>\n      <th id=\"T_abc9c_level0_row2\" class=\"row_heading level0 row2\" > education-num</th>\n      <td id=\"T_abc9c_row2_col0\" class=\"data row2 col0\" >0.03653</td>\n      <td id=\"T_abc9c_row2_col1\" class=\"data row2 col1\" >-0.04319</td>\n      <td id=\"T_abc9c_row2_col2\" class=\"data row2 col2\" >1.0</td>\n      <td id=\"T_abc9c_row2_col3\" class=\"data row2 col3\" >0.1226</td>\n      <td id=\"T_abc9c_row2_col4\" class=\"data row2 col4\" >0.07992</td>\n      <td id=\"T_abc9c_row2_col5\" class=\"data row2 col5\" >0.1481</td>\n    </tr>\n    <tr>\n      <th id=\"T_abc9c_level0_row3\" class=\"row_heading level0 row3\" > capital-gain</th>\n      <td id=\"T_abc9c_row3_col0\" class=\"data row3 col0\" >0.07767</td>\n      <td id=\"T_abc9c_row3_col1\" class=\"data row3 col1\" >0.0004319</td>\n      <td id=\"T_abc9c_row3_col2\" class=\"data row3 col2\" >0.1226</td>\n      <td id=\"T_abc9c_row3_col3\" class=\"data row3 col3\" >1.0</td>\n      <td id=\"T_abc9c_row3_col4\" class=\"data row3 col4\" >-0.03162</td>\n      <td id=\"T_abc9c_row3_col5\" class=\"data row3 col5\" >0.07841</td>\n    </tr>\n    <tr>\n      <th id=\"T_abc9c_level0_row4\" class=\"row_heading level0 row4\" > capital-loss</th>\n      <td id=\"T_abc9c_row4_col0\" class=\"data row4 col0\" >0.05777</td>\n      <td id=\"T_abc9c_row4_col1\" class=\"data row4 col1\" >-0.01025</td>\n      <td id=\"T_abc9c_row4_col2\" class=\"data row4 col2\" >0.07992</td>\n      <td id=\"T_abc9c_row4_col3\" class=\"data row4 col3\" >-0.03162</td>\n      <td id=\"T_abc9c_row4_col4\" class=\"data row4 col4\" >1.0</td>\n      <td id=\"T_abc9c_row4_col5\" class=\"data row4 col5\" >0.05426</td>\n    </tr>\n    <tr>\n      <th id=\"T_abc9c_level0_row5\" class=\"row_heading level0 row5\" > hours-per-week</th>\n      <td id=\"T_abc9c_row5_col0\" class=\"data row5 col0\" >0.06876</td>\n      <td id=\"T_abc9c_row5_col1\" class=\"data row5 col1\" >-0.01877</td>\n      <td id=\"T_abc9c_row5_col2\" class=\"data row5 col2\" >0.1481</td>\n      <td id=\"T_abc9c_row5_col3\" class=\"data row5 col3\" >0.07841</td>\n      <td id=\"T_abc9c_row5_col4\" class=\"data row5 col4\" >0.05426</td>\n      <td id=\"T_abc9c_row5_col5\" class=\"data row5 col5\" >1.0</td>\n    </tr>\n  </tbody>\n</table>\n"
     },
     "execution_count": 34,
     "metadata": {},
     "output_type": "execute_result"
    }
   ],
   "source": [
    "# printing the correlation between numerical values in the dataset\n",
    "df.corr().style.format(\"{:.4}\").background_gradient(cmap=plt.get_cmap('coolwarm'), axis=1)"
   ],
   "metadata": {
    "collapsed": false,
    "pycharm": {
     "name": "#%%\n"
    }
   }
  },
  {
   "cell_type": "code",
   "execution_count": 35,
   "outputs": [
    {
     "name": "stdout",
     "output_type": "stream",
     "text": [
      "0\n",
      "0\n"
     ]
    }
   ],
   "source": [
    "# n_neighbors = 161\n",
    "\n",
    "# preparing the input and labels for the binary classification\n",
    "y = df[' income']\n",
    "x = df.drop([' income'], axis=1)\n",
    "\n",
    "# splitting into train/test\n",
    "X_train, X_test, y_train, y_test = train_test_split(x, y, test_size=0.2, stratify=y,\n",
    "                     random_state=random_state)\n",
    "\n",
    "print(X_train.isnull().sum().sum())\n",
    "print(X_test.isnull().sum().sum())\n",
    "\n",
    "# dim = len(x[0])\n",
    "# n_classes = len(np.unique(y))"
   ],
   "metadata": {
    "collapsed": false,
    "pycharm": {
     "name": "#%%\n"
    }
   }
  },
  {
   "cell_type": "code",
   "execution_count": 36,
   "outputs": [
    {
     "name": "stderr",
     "output_type": "stream",
     "text": [
      "/Users/pouyashiri/miniforge3/envs/main/lib/python3.8/site-packages/category_encoders/utils.py:21: FutureWarning: is_categorical is deprecated and will be removed in a future version.  Use is_categorical_dtype instead\n",
      "  elif pd.api.types.is_categorical(cols):\n"
     ]
    }
   ],
   "source": [
    "# using OneHotEncoder to encode the categorical values in the training and test sets\n",
    "categorical.remove(' income')\n",
    "encoder = ce.OneHotEncoder(cols=categorical)\n",
    "X_train = encoder.fit_transform(X_train)\n",
    "X_test = encoder.transform(X_test)\n"
   ],
   "metadata": {
    "collapsed": false,
    "pycharm": {
     "name": "#%%\n"
    }
   }
  },
  {
   "cell_type": "code",
   "execution_count": 37,
   "outputs": [
    {
     "name": "stdout",
     "output_type": "stream",
     "text": [
      "       age   workclass_1   workclass_2   workclass_3   workclass_4  \\\n",
      "29101   19             1             0             0             0   \n",
      "10606   50             1             0             0             0   \n",
      "9414    62             1             0             0             0   \n",
      "1747    20             1             0             0             0   \n",
      "10677   25             1             0             0             0   \n",
      "\n",
      "        workclass_5   workclass_6   workclass_7   workclass_8   fnlwgt  ...  \\\n",
      "29101             0             0             0             0   140399  ...   \n",
      "10606             0             0             0             0   158284  ...   \n",
      "9414              0             0             0             0   183735  ...   \n",
      "1747              0             0             0             0   154781  ...   \n",
      "10677             0             0             0             0   356344  ...   \n",
      "\n",
      "        native-country_32   native-country_33   native-country_34  \\\n",
      "29101                   0                   0                   0   \n",
      "10606                   0                   0                   0   \n",
      "9414                    0                   0                   0   \n",
      "1747                    0                   0                   0   \n",
      "10677                   0                   0                   0   \n",
      "\n",
      "        native-country_35   native-country_36   native-country_37  \\\n",
      "29101                   0                   0                   0   \n",
      "10606                   0                   0                   0   \n",
      "9414                    0                   0                   0   \n",
      "1747                    0                   0                   0   \n",
      "10677                   0                   0                   0   \n",
      "\n",
      "        native-country_38   native-country_39   native-country_40  \\\n",
      "29101                   0                   0                   0   \n",
      "10606                   0                   0                   0   \n",
      "9414                    0                   0                   0   \n",
      "1747                    0                   0                   0   \n",
      "10677                   0                   0                   0   \n",
      "\n",
      "        native-country_41  \n",
      "29101                   0  \n",
      "10606                   0  \n",
      "9414                    0  \n",
      "1747                    0  \n",
      "10677                   0  \n",
      "\n",
      "[5 rows x 105 columns]\n",
      "(26048, 105)\n",
      "       age   workclass_1   workclass_2   workclass_3   workclass_4  \\\n",
      "13077   57             1             0             0             0   \n",
      "25002   46             1             0             0             0   \n",
      "23777   47             1             0             0             0   \n",
      "71      31             1             0             0             0   \n",
      "955     41             1             0             0             0   \n",
      "\n",
      "        workclass_5   workclass_6   workclass_7   workclass_8   fnlwgt  ...  \\\n",
      "13077             0             0             0             0   134195  ...   \n",
      "25002             0             0             0             0    98350  ...   \n",
      "23777             0             0             0             0    33865  ...   \n",
      "71                0             0             0             0   309974  ...   \n",
      "955               0             0             0             0   239683  ...   \n",
      "\n",
      "        native-country_32   native-country_33   native-country_34  \\\n",
      "13077                   0                   0                   0   \n",
      "25002                   0                   0                   0   \n",
      "23777                   0                   0                   0   \n",
      "71                      0                   0                   0   \n",
      "955                     0                   0                   0   \n",
      "\n",
      "        native-country_35   native-country_36   native-country_37  \\\n",
      "13077                   0                   0                   0   \n",
      "25002                   0                   0                   0   \n",
      "23777                   0                   0                   0   \n",
      "71                      0                   0                   0   \n",
      "955                     0                   0                   0   \n",
      "\n",
      "        native-country_38   native-country_39   native-country_40  \\\n",
      "13077                   0                   0                   0   \n",
      "25002                   0                   0                   0   \n",
      "23777                   0                   0                   0   \n",
      "71                      0                   0                   0   \n",
      "955                     0                   0                   0   \n",
      "\n",
      "        native-country_41  \n",
      "13077                   0  \n",
      "25002                   0  \n",
      "23777                   0  \n",
      "71                      0  \n",
      "955                     0  \n",
      "\n",
      "[5 rows x 105 columns]\n",
      "(6513, 105)\n"
     ]
    }
   ],
   "source": [
    "# checking the training and testing inputs\n",
    "print(X_train.head())\n",
    "print(X_train.shape)\n",
    "print(X_test.head())\n",
    "print(X_test.shape)\n"
   ],
   "metadata": {
    "collapsed": false,
    "pycharm": {
     "name": "#%%\n"
    }
   }
  },
  {
   "cell_type": "code",
   "execution_count": 38,
   "outputs": [],
   "source": [
    "# using the robustScaler to reduce the effect of outliers\n",
    "cols = X_train.columns\n",
    "scaler = RobustScaler()\n",
    "X_train = scaler.fit_transform(X_train)\n",
    "X_test = scaler.transform(X_test)\n",
    "X_train = pd.DataFrame(X_train, columns=[cols])\n",
    "X_test = pd.DataFrame(X_test, columns=[cols])"
   ],
   "metadata": {
    "collapsed": false,
    "pycharm": {
     "name": "#%%\n"
    }
   }
  },
  {
   "cell_type": "code",
   "execution_count": 39,
   "outputs": [
    {
     "name": "stdout",
     "output_type": "stream",
     "text": [
      "Random Forest training took 1.8456099033355713.\n",
      "Random Forest test took 0.0949411392211914.\n"
     ]
    }
   ],
   "source": [
    "# Random Forest Classifier\n",
    "rfc = RandomForestClassifier(random_state=0)\n",
    "start_time = time.time()\n",
    "rfc.fit(X_train, y_train)\n",
    "print(f'Random Forest training took {time.time()-start_time}.')\n",
    "start_time = time.time()\n",
    "y_pred = rfc.predict(X_test)\n",
    "print(f'Random Forest test took {time.time()-start_time}.')"
   ],
   "metadata": {
    "collapsed": false,
    "pycharm": {
     "name": "#%%\n"
    }
   }
  },
  {
   "cell_type": "code",
   "execution_count": 40,
   "metadata": {
    "collapsed": true
   },
   "outputs": [
    {
     "name": "stdout",
     "output_type": "stream",
     "text": [
      "Random-Forest accuracy (10 decision-trees) : 0.8535\n",
      "              precision    recall  f1-score   support\n",
      "\n",
      "       <=50K       0.88      0.93      0.91      4945\n",
      "        >50K       0.73      0.61      0.67      1568\n",
      "\n",
      "    accuracy                           0.85      6513\n",
      "   macro avg       0.81      0.77      0.79      6513\n",
      "weighted avg       0.85      0.85      0.85      6513\n",
      "\n",
      "Random Forest confusion matrix\n",
      "\n",
      " [[4596  349]\n",
      " [ 605  963]]\n"
     ]
    },
    {
     "data": {
      "text/plain": "<AxesSubplot:>"
     },
     "execution_count": 40,
     "metadata": {},
     "output_type": "execute_result"
    },
    {
     "data": {
      "text/plain": "<Figure size 432x288 with 2 Axes>",
      "image/png": "[encoded data removed]"
     },
     "metadata": {
      "needs_background": "light"
     },
     "output_type": "display_data"
    }
   ],
   "source": [
    "# Checking accuracy score\n",
    "print('Random-Forest accuracy (10 decision-trees) : {0:0.4f}'.format(accuracy_score(y_test, y_pred)))\n",
    "\n",
    "print(classification_report(y_test, y_pred))\n",
    "\n",
    "# Printing the confusion matrix\n",
    "cm = confusion_matrix(y_test, y_pred)\n",
    "print('Random Forest confusion matrix\\n\\n', cm)\n",
    "cm_matrix = pd.DataFrame(data=cm, columns=['Real Positive:1', 'Real Negative:0'],\n",
    "                         index=['Predicted Positive:1', 'Predicted Negative:0'])\n",
    "sns.heatmap(cm_matrix, annot=True, fmt='d')\n"
   ]
  },
  {
   "cell_type": "code",
   "execution_count": 41,
   "outputs": [
    {
     "name": "stdout",
     "output_type": "stream",
     "text": [
      "KNN training took 0.022362947463989258.\n",
      "KNN test took 0.14951395988464355.\n"
     ]
    }
   ],
   "source": [
    "# KNN Classifier with N taken as the square root of size of training set\n",
    "n_neighbors = 161\n",
    "\n",
    "# dimension reduction to 2 using PCA\n",
    "pca = PCA(n_components=2, random_state=random_state)\n",
    "knn = KNeighborsClassifier(n_neighbors=n_neighbors)\n",
    "\n",
    "X_train_reduced = pca.fit_transform(X_train)\n",
    "X_test_reduced = pca.transform(X_test)\n",
    "\n",
    "# Training the KNN on the reduced training set\n",
    "start_time = time.time()\n",
    "knn.fit(X_train_reduced, y_train)\n",
    "print(f'KNN training took {time.time()-start_time}.')\n",
    "\n",
    "start_time = time.time()\n",
    "y_pred = knn.predict(X_test_reduced)\n",
    "print(f'KNN test took {time.time()-start_time}.')\n"
   ],
   "metadata": {
    "collapsed": false,
    "pycharm": {
     "name": "#%%\n"
    }
   }
  },
  {
   "cell_type": "code",
   "execution_count": 42,
   "outputs": [
    {
     "name": "stdout",
     "output_type": "stream",
     "text": [
      "KNN accuracy : 0.8168\n",
      "              precision    recall  f1-score   support\n",
      "\n",
      "       <=50K       0.82      0.97      0.89      4945\n",
      "        >50K       0.77      0.34      0.47      1568\n",
      "\n",
      "    accuracy                           0.82      6513\n",
      "   macro avg       0.80      0.65      0.68      6513\n",
      "weighted avg       0.81      0.82      0.79      6513\n",
      "\n",
      "KNN confusion matrix\n",
      "\n",
      " [[4788  157]\n",
      " [1036  532]]\n"
     ]
    },
    {
     "data": {
      "text/plain": "<AxesSubplot:>"
     },
     "execution_count": 42,
     "metadata": {},
     "output_type": "execute_result"
    },
    {
     "data": {
      "text/plain": "<Figure size 432x288 with 2 Axes>",
      "image/png": "[encoded data removed]"
     },
     "metadata": {
      "needs_background": "light"
     },
     "output_type": "display_data"
    }
   ],
   "source": [
    "# Checking accuracy score\n",
    "print('KNN accuracy : {0:0.4f}'.format(knn.score(X_test_reduced, y_test)))\n",
    "\n",
    "print(classification_report(y_test, y_pred))\n",
    "\n",
    "# Printing the confusion matrix\n",
    "cm = confusion_matrix(y_test, y_pred)\n",
    "print('KNN confusion matrix\\n\\n', cm)\n",
    "cm_matrix = pd.DataFrame(data=cm, columns=['Real Positive:1', 'Real Negative:0'],\n",
    "                         index=['Predicted Positive:1', 'Predicted Negative:0'])\n",
    "sns.heatmap(cm_matrix, annot=True, fmt='d')\n",
    "\n",
    "\n"
   ],
   "metadata": {
    "collapsed": false,
    "pycharm": {
     "name": "#%%\n"
    }
   }
  }
 ],
 "metadata": {
  "kernelspec": {
   "display_name": "Python 3",
   "language": "python",
   "name": "python3"
  },
  "language_info": {
   "codemirror_mode": {
    "name": "ipython",
    "version": 2
   },
   "file_extension": ".py",
   "mimetype": "text/x-python",
   "name": "python",
   "nbconvert_exporter": "python",
   "pygments_lexer": "ipython2",
   "version": "2.7.6"
  }
 },
 "nbformat": 4,
 "nbformat_minor": 0
}